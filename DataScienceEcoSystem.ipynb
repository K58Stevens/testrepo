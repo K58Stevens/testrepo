{
 "cells": [
  {
   "cell_type": "markdown",
   "id": "8875dcc5-c721-4517-af26-21d739d071b8",
   "metadata": {},
   "source": [
    "# DataScience Tools and Ecosystem"
   ]
  },
  {
   "cell_type": "markdown",
   "id": "27575270-fa75-43fe-9dbf-901aaff019e3",
   "metadata": {},
   "source": [
    "## Author\n",
    "Keith Stevens"
   ]
  },
  {
   "cell_type": "markdown",
   "id": "ae8ea531-f1ba-4b02-80f4-21bf16315f27",
   "metadata": {},
   "source": [
    "In this notbook, Data Science Tools and Ecosystem are sumarized."
   ]
  },
  {
   "cell_type": "markdown",
   "id": "c84fca40-f4da-4272-9f2d-9a01523a7f97",
   "metadata": {},
   "source": [
    "Objectives:\n",
    "* Learned the different Languages used in Data Science\n",
    "* Learned what libraries are used in Data Science\n",
    "* Learned different Data Science Tasks\n",
    "* Learned the difference between structured and unstructured data"
   ]
  },
  {
   "cell_type": "markdown",
   "id": "fdb756dc-e491-461b-99d8-fa4275e6a7f6",
   "metadata": {},
   "source": [
    "Some of the popular languages that Data Scientists use are:\n",
    "1. Julia\n",
    "2. Python\n",
    "3. R\n",
    "4. C++"
   ]
  },
  {
   "cell_type": "markdown",
   "id": "ceefa4bc-f1c5-44dd-a477-ebd3a05d72f9",
   "metadata": {},
   "source": [
    "Some of the commonly used libraries used by Data Scientists include:\n",
    "1. Pandas\n",
    "2. Matplotlib\n",
    "3. SciKit\n",
    "4. PyTorch"
   ]
  },
  {
   "cell_type": "markdown",
   "id": "4261c258-5a33-40ee-8592-4f89ac602a55",
   "metadata": {},
   "source": [
    "|Data Science Tools|\n",
    "|--------|\n",
    "|MySQL|\n",
    "|MongoDB|\n",
    "|Hadoop|"
   ]
  },
  {
   "cell_type": "markdown",
   "id": "8a314e1c-81c6-442b-b5f2-05b7e97528e0",
   "metadata": {},
   "source": [
    "Below are a few examples of evaluating arithmetic expressions in Python"
   ]
  },
  {
   "cell_type": "code",
   "execution_count": 1,
   "id": "5ae84a64-31d8-494a-887a-e681e17ce0c6",
   "metadata": {},
   "outputs": [
    {
     "data": {
      "text/plain": [
       "17"
      ]
     },
     "execution_count": 1,
     "metadata": {},
     "output_type": "execute_result"
    }
   ],
   "source": [
    "# This is a simple arithmetic expression to multiply then add integers\n",
    "(3*4)+5"
   ]
  },
  {
   "cell_type": "code",
   "execution_count": 2,
   "id": "a537f53d-eff7-472e-9bd1-528577b3e627",
   "metadata": {},
   "outputs": [
    {
     "data": {
      "text/plain": [
       "3.3333333333333335"
      ]
     },
     "execution_count": 2,
     "metadata": {},
     "output_type": "execute_result"
    }
   ],
   "source": [
    "# This will convert 200 minutes to hours by dividing by 60\n",
    "200/60"
   ]
  }
 ],
 "metadata": {
  "kernelspec": {
   "display_name": "Python 3 (ipykernel)",
   "language": "python",
   "name": "python3"
  },
  "language_info": {
   "codemirror_mode": {
    "name": "ipython",
    "version": 3
   },
   "file_extension": ".py",
   "mimetype": "text/x-python",
   "name": "python",
   "nbconvert_exporter": "python",
   "pygments_lexer": "ipython3",
   "version": "3.12.8"
  }
 },
 "nbformat": 4,
 "nbformat_minor": 5
}
